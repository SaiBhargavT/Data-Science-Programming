{
 "cells": [
  {
   "cell_type": "code",
   "execution_count": null,
   "id": "0c65abb7",
   "metadata": {},
   "outputs": [],
   "source": [
    "from random import randint\n",
    "import math\n",
    "from collections import Counter"
   ]
  },
  {
   "cell_type": "markdown",
   "id": "95e4185a",
   "metadata": {},
   "source": [
    "## Q1 Rock Paper Scissor"
   ]
  },
  {
   "cell_type": "code",
   "execution_count": null,
   "id": "8484bd1d",
   "metadata": {},
   "outputs": [],
   "source": [
    "def computervalue(max_index): # this is to choose the computer value, the logic is written in way that player either looses or tie's but the computer has theupper hand like any typical computer game\n",
    "    list_count = [rcount,pcount,scount]\n",
    "    max_index=[i for i, x in enumerate(list_count) if x == max(list_count)]\n",
    "    if max_index[0] == 0:\n",
    "        computer = rps[1]\n",
    "    elif max_index[0] == 1:\n",
    "        computer = rps[2]\n",
    "    elif max_index[0] == 2:\n",
    "        computer = rps [0]\n",
    "    else :\n",
    "        computer = rps[randint(max_index[0],max_index[-1])]\n",
    "    return computer\n",
    "\n",
    "#create a list of options\n",
    "rps = [\"Rock\", \"Paper\", \"Scissors\"]\n",
    "game_count =0\n",
    "game_won =0\n",
    "rcount=0\n",
    "pcount=0\n",
    "scount=0\n",
    "\n",
    "#Let computer choose a random play\n",
    "player = False\n",
    "game_count = -1\n",
    "while player == False :\n",
    "    list_count = [rcount,pcount,scount]\n",
    "    max_index=[i for i, x in enumerate(list_count) if x == max(list_count)]\n",
    "#     print(max_index)\n",
    "    computer = computervalue(max_index)\n",
    "#     print(\"computer Value\",computer)\n",
    "    player = input(\"Rock, Paper, Scissors,Quit?\").casefold()\n",
    "    game_count = game_count +1\n",
    "    \n",
    "    if player.lower() == computer.lower():\n",
    "        if player.lower() ==\"rock\":\n",
    "            rcount=rcount+1\n",
    "        elif player.lower() ==\"paper\":\n",
    "            pcount = pcount+1\n",
    "        else:\n",
    "            scount=scount+1\n",
    "        print(\"Tie!\")\n",
    "    elif player.lower() == \"rock\":\n",
    "        rcount =rcount+1\n",
    "        if computer.lower() == \"paper\":\n",
    "            print(\"You lose!\", computer, \"covers\", player)\n",
    "        else:\n",
    "            game_won =game_won +1\n",
    "            print(\"You win!\", player, \"smashes\", computer)\n",
    "    elif player.lower() == \"paper\":\n",
    "        pcount=pcount+1\n",
    "        if computer.lower() == \"scissors\":\n",
    "            print(\"You lose!\", computer, \"cut\", player)\n",
    "        else:\n",
    "            game_won =game_won+1\n",
    "            print(\"You win!\", player, \"covers\", computer)\n",
    "    elif player.lower() == \"scissors\":\n",
    "        scount= scount+1\n",
    "        if computer.lower() == \"rock\":\n",
    "            print(\"You lose...\", computer, \"smashes\", player)\n",
    "        else:\n",
    "            game_won =game_won+1\n",
    "            print(\"You win!\", player, \"cut\", computer)\n",
    "    elif player.lower() == \"quit\":\n",
    "        print(\"Games Played =\" ,game_count ,\"Games Won =\", game_won )\n",
    "        break\n",
    "    else:\n",
    "        print(\"That's not a valid play. Check your spelling!\")\n",
    "    #player was set to True, but we want it to be False so the loop continues\n",
    "    player = False"
   ]
  },
  {
   "cell_type": "markdown",
   "id": "d828a376",
   "metadata": {},
   "source": [
    "## Q4 The Google of Quotes"
   ]
  },
  {
   "cell_type": "markdown",
   "id": "652104a1",
   "metadata": {},
   "source": [
    "#### (a) Build a list of full quotes"
   ]
  },
  {
   "cell_type": "code",
   "execution_count": null,
   "id": "aa675101",
   "metadata": {},
   "outputs": [],
   "source": [
    "import re\n",
    "file_read = open('quotes.txt','r',encoding=\"ISO-8859-1\")\n",
    "linelist = file_read.readlines()\n",
    "\n",
    "i = 0\n",
    "full_quotes=[]\n",
    "# quotes=[]\n",
    "for i in range(int((len(linelist))/2)):\n",
    "    quote = linelist[2*i].strip('\\n')\n",
    "#     print(quote)\n",
    "    author = linelist[2*i+1].strip('\\n')\n",
    "#     print(author)\n",
    "    final_quote = quote+\"- \"+author\n",
    "#     quotes.append(quote)\n",
    "    full_quotes.append(final_quote)\n",
    "# full_quotes"
   ]
  },
  {
   "cell_type": "markdown",
   "id": "68bf2a0b",
   "metadata": {},
   "source": [
    "#### b) Words from full quotes "
   ]
  },
  {
   "cell_type": "code",
   "execution_count": null,
   "id": "3c8c1f5e",
   "metadata": {},
   "outputs": [],
   "source": [
    "def split_words(q):\n",
    "    regex_lower = re.sub('[^\\w\\s]','',q.lower())\n",
    "    words_split= regex_lower.split()\n",
    "    return words_split\n",
    "# split_words(quote)"
   ]
  },
  {
   "cell_type": "markdown",
   "id": "de1df72b",
   "metadata": {},
   "source": [
    "####  (c) Build the postings-list dictionary"
   ]
  },
  {
   "cell_type": "code",
   "execution_count": null,
   "id": "8568fe77",
   "metadata": {},
   "outputs": [],
   "source": [
    "postings_list = {}\n",
    "for i in range(len(full_quotes)):\n",
    "    words = split_words(full_quotes[i])\n",
    "    dict_dummy = {}\n",
    "    for w in words:\n",
    "        dict_dummy[w] = words.count(w)\n",
    "    \n",
    "    postings_list[full_quotes[i]] = dict_dummy\n",
    "    \n",
    "postings_list"
   ]
  },
  {
   "cell_type": "markdown",
   "id": "0a3efa27",
   "metadata": {},
   "source": [
    "#### (d) Build the reverse postings-list dictionary"
   ]
  },
  {
   "cell_type": "code",
   "execution_count": null,
   "id": "65c33fd0",
   "metadata": {},
   "outputs": [],
   "source": [
    "reverse_posting_dict = {}\n",
    "for i in full_quotes:\n",
    "    words = split_words(i)\n",
    "    for j in words:\n",
    "        if j in reverse_posting_dict:\n",
    "            if i in reverse_posting_dict[j]: #can't compare other ways as reverse_posting is a dict\n",
    "                reverse_posting_dict[j][i] = reverse_posting_dict[j][i] + 1\n",
    "            else:\n",
    "                reverse_posting_dict[j][i] = 1\n",
    "        else: \n",
    "            reverse_posting_dict[j] = {}\n",
    "            reverse_posting_dict[j][i] = 1\n",
    "            \n",
    "reverse_posting_dict"
   ]
  },
  {
   "cell_type": "markdown",
   "id": "10e3a54a",
   "metadata": {},
   "source": [
    "#### (e) Write a TF-IDF function "
   ]
  },
  {
   "cell_type": "code",
   "execution_count": null,
   "id": "bfd3c0c1",
   "metadata": {},
   "outputs": [],
   "source": [
    "def TF_IDF(w,k):\n",
    "    a = postings_list[k][w]\n",
    "    b = max(postings_list[k].values())\n",
    "    TF = float(a)/b\n",
    "    \n",
    "# IDF\n",
    "    quo_occ = len(reverse_posting_dict[w])\n",
    "    IDF = math.log(len(full_quotes)/quo_occ)\n",
    "    TF_IDF = TF*IDF\n",
    "    return TF_IDF\n",
    "    \n",
    "    \n"
   ]
  },
  {
   "cell_type": "code",
   "execution_count": null,
   "id": "ae37a419",
   "metadata": {},
   "outputs": [],
   "source": [
    "TF_IDF(\"entertainer\", full_quotes[16])"
   ]
  },
  {
   "cell_type": "markdown",
   "id": "037ab562",
   "metadata": {},
   "source": [
    "#### (f) Quote search using a single word"
   ]
  },
  {
   "cell_type": "code",
   "execution_count": null,
   "id": "cac7eea9",
   "metadata": {},
   "outputs": [],
   "source": [
    "def word_google_search(w):\n",
    "    dictionary = {}\n",
    "    for k in reverse_posting_dict[w]:\n",
    "        dictionary[k] = TF_IDF(w,k)\n",
    "    return dictionary\n",
    "\n",
    "\n",
    "word_google_search('teresa')\n",
    "\n"
   ]
  },
  {
   "cell_type": "markdown",
   "id": "176e6bbf",
   "metadata": {},
   "source": [
    "#### (g) Quote search using multiple words"
   ]
  },
  {
   "cell_type": "code",
   "execution_count": null,
   "id": "eab70690",
   "metadata": {},
   "outputs": [],
   "source": [
    "words = []\n",
    "def multiple_words(k):\n",
    "    x ={}\n",
    "    for i in range(len(k)):\n",
    "        x = dict(Counter(word_google_search(k[i]))+Counter(x))\n",
    "    return x\n",
    "\n",
    "k = ['deliberate','napoleon']\n",
    "multiple_words(k)"
   ]
  }
 ],
 "metadata": {
  "kernelspec": {
   "display_name": "Python 3 (ipykernel)",
   "language": "python",
   "name": "python3"
  },
  "language_info": {
   "codemirror_mode": {
    "name": "ipython",
    "version": 3
   },
   "file_extension": ".py",
   "mimetype": "text/x-python",
   "name": "python",
   "nbconvert_exporter": "python",
   "pygments_lexer": "ipython3",
   "version": "3.9.12"
  }
 },
 "nbformat": 4,
 "nbformat_minor": 5
}

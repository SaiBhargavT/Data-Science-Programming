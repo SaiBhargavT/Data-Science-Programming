{
 "cells": [
  {
   "cell_type": "code",
   "execution_count": 1,
   "id": "7993b489",
   "metadata": {},
   "outputs": [
    {
     "name": "stdout",
     "output_type": "stream",
     "text": [
      "Populating the interactive namespace from numpy and matplotlib\n"
     ]
    }
   ],
   "source": [
    "import pandas as pd\n",
    "from pandas import Series, DataFrame\n",
    "%pylab inline"
   ]
  },
  {
   "cell_type": "markdown",
   "id": "de842c91",
   "metadata": {},
   "source": [
    "---\n",
    "### [Q1 12 points] Classification\n",
    "\n",
    "Consider a dataset with two features, with the scatter plot of the data following a honeycomb pattern:\n",
    "![honeycomb](honeycomb.png)\n",
    "\n",
    "You should assume that\n",
    "* each edge of the hexagons has equal length, and\n",
    "* the picture extends thoughout the x-y plane and has infinite points.\n",
    "\n",
    "The hexagonal lines are not important; they are just there to visualize the structure of the datapoints.\n",
    "\n",
    "### [Q1a 3 points] What is the accuracy of a KNN classifier with K=3?"
   ]
  },
  {
   "cell_type": "markdown",
   "id": "e3051013",
   "metadata": {},
   "source": [
    "The accuracy of a KNN classifier with K=3 will be 0. This is because for each datapoint atleast the closest 2 points are opposite classification. When we take 3 nearest neighbors, for each point, atleast 2 of them will be of opposite classification. Hence, for all the points the classification will be wrong."
   ]
  },
  {
   "cell_type": "markdown",
   "id": "a34a7462",
   "metadata": {},
   "source": [
    "### [Q1b 3 points] What is the accuracy of KNN with K=7?"
   ]
  },
  {
   "cell_type": "markdown",
   "id": "277ca0d7",
   "metadata": {},
   "source": [
    "The accuracy of a KNN classifier with K=7 will be 0. This is because for each datapoint atleast the closest 4 points are opposite classification. When 4 out of 7 points are in opposite classification the point in considered will be classified as that of those points via KNN. The same applies to all the points. Hence, for all the points the classification will be wrong."
   ]
  },
  {
   "cell_type": "markdown",
   "id": "5aa5040a",
   "metadata": {},
   "source": [
    "### [Q1c 3 points] What is the accuracy of the baseline classifier?"
   ]
  },
  {
   "cell_type": "markdown",
   "id": "afbfb1c9",
   "metadata": {},
   "source": [
    "The baseline classification accuracy would be classifying all the points as one class. In that case, the prior of the class which has higher prior would be the accuracy. In this case, it would be 0.5 or 50%"
   ]
  },
  {
   "cell_type": "markdown",
   "id": "b419d7b5",
   "metadata": {},
   "source": [
    "---\n",
    "Now consider the following two options:\n",
    "![2 honeycombs](honeycomb2.png)\n",
    "\n",
    "* In both options, the honeycomb extends in the vertical direction but not the horizontal direction.\n",
    "* In both, you should assume that the points are really small, and at the corners of the hexagons. The figure shows the points as large circles just for ease of visualization.\n",
    "\n",
    "Suppose you build a depth-10 decision tree to classify the red from blue points in each case.\n",
    "\n",
    "### [Q1d 3 points] For which figure (a or b) can a depth-10 decision tree give a higher accuracy?"
   ]
  },
  {
   "cell_type": "markdown",
   "id": "e2f7cebd",
   "metadata": {},
   "source": [
    "50 % accuracy with any number of trees for both the figures."
   ]
  },
  {
   "cell_type": "markdown",
   "id": "b4ae2de9",
   "metadata": {},
   "source": [
    "---\n",
    "We will analyze a dataset of tax receipts for Wine/Liquor/Beer sales from a variety of locations in Texas.\n",
    "We will need the following columns:\n",
    "* Taxpayer Name, City, State, Zip refer to the name of the business entity that sells these products.\n",
    "* Location Name, City, State, Zip refer to the name of the specific hotel/bar/business run by the business entity (Taxpayer Name). A Taxpayer Name may operate several business locations.\n",
    "* Inside/Outside City Limits: This is \"Y\" if the business location is inside city limits, and \"N\" otherwise.\n",
    "* TABC Permit Number is a license string.\n",
    "* Liquor/Wine/Beer/CoverCharge Receipts: These are the sales numbers reported for tax purposes by the business.\n",
    "\n",
    "### [Q2 2 points] Read in the file **BeverageReceipts.csv** and print its first line."
   ]
  },
  {
   "cell_type": "code",
   "execution_count": 2,
   "id": "3a8e03a1",
   "metadata": {
    "scrolled": true
   },
   "outputs": [
    {
     "name": "stdout",
     "output_type": "stream",
     "text": [
      "%pylab is deprecated, use %matplotlib inline and import the required libraries.\n",
      "Populating the interactive namespace from numpy and matplotlib\n"
     ]
    },
    {
     "data": {
      "text/plain": [
       "Taxpayer Number                                32047970895\n",
       "Taxpayer Name                 HONDURAS MAYA CAFE & BAR LLC\n",
       "Taxpayer Address                             8011 HAZEN ST\n",
       "Taxpayer City                                      HOUSTON\n",
       "Taxpayer State                                          TX\n",
       "Taxpayer Zip                                       77036.0\n",
       "Taxpayer County                                        101\n",
       "Location Number                                          1\n",
       "Location Name                 HONDURAS MAYA CAFE & BAR LLC\n",
       "Location Address                  5945 BELLAIRE BLVD STE B\n",
       "Location City                                      HOUSTON\n",
       "Location State                                          TX\n",
       "Location Zip                                         77081\n",
       "Location County                                        101\n",
       "Inside/Outside City Limits                               Y\n",
       "TABC Permit Number                                MB817033\n",
       "Responsibility Begin Date                       08/16/2012\n",
       "Responsibility End Date                         09/12/2019\n",
       "Obligation End Date                             07/31/2019\n",
       "Liquor Receipts                                          0\n",
       "Wine Receipts                                            0\n",
       "Beer Receipts                                            0\n",
       "Cover Charge Receipts                                    0\n",
       "Total Receipts                                           0\n",
       "Name: 0, dtype: object"
      ]
     },
     "execution_count": 2,
     "metadata": {},
     "output_type": "execute_result"
    }
   ],
   "source": [
    "from pandas import Series, DataFrame\n",
    "import pandas as pd\n",
    "%pylab inline\n",
    "\n",
    "df = pd.read_csv('BeverageReceipts.csv')\n",
    "\n",
    "df.iloc[0]"
   ]
  },
  {
   "cell_type": "markdown",
   "id": "4c322007",
   "metadata": {},
   "source": [
    "### [Q3 4 points] Which Taxpayer Name shows up most frequently in the dataset?"
   ]
  },
  {
   "cell_type": "code",
   "execution_count": 5,
   "id": "7d2a1c6f",
   "metadata": {},
   "outputs": [
    {
     "data": {
      "text/plain": [
       "'AMC ITD, LLC'"
      ]
     },
     "execution_count": 5,
     "metadata": {},
     "output_type": "execute_result"
    }
   ],
   "source": [
    "df['Taxpayer Name'].value_counts().index[0]"
   ]
  },
  {
   "cell_type": "markdown",
   "id": "1fb4052d",
   "metadata": {},
   "source": [
    "### [Q4 4 points] In what fraction of rows is the Taxpayer Name identical to the Location Name?"
   ]
  },
  {
   "cell_type": "code",
   "execution_count": 7,
   "id": "3b9ba535",
   "metadata": {},
   "outputs": [
    {
     "data": {
      "text/plain": [
       "0.08574"
      ]
     },
     "execution_count": 7,
     "metadata": {},
     "output_type": "execute_result"
    }
   ],
   "source": [
    "len(df[df['Taxpayer Name'] == df['Location Name']])/len(df)"
   ]
  },
  {
   "cell_type": "markdown",
   "id": "04eb503f",
   "metadata": {},
   "source": [
    "### [Q5 4 points] In what fraction of rows is the Location Name a substring of Taxpayer Name?\n",
    "\n",
    "If both are equal, you can consider the Location Name to be a substring of Taxpayer Name."
   ]
  },
  {
   "cell_type": "code",
   "execution_count": 9,
   "id": "d339d5ea",
   "metadata": {},
   "outputs": [
    {
     "data": {
      "text/plain": [
       "0.21532"
      ]
     },
     "execution_count": 9,
     "metadata": {},
     "output_type": "execute_result"
    }
   ],
   "source": [
    "def check(x):\n",
    "    return str(x['Location Name']) in str(x['Taxpayer Name'])\n",
    "\n",
    "\n",
    "len(df[df[['Location Name','Taxpayer Name']].apply(check, axis = 1)])/len(df)"
   ]
  },
  {
   "cell_type": "markdown",
   "id": "5e71394b",
   "metadata": {},
   "source": [
    "### [Q6 4 points] Plot the top-20 cities by frequency.\n",
    "\n",
    "For each Taxpayer City, figure out how many rows are associated with that city.\n",
    "Show a plot of the top 20 cities, with x-axis=city and y-axis=number of rows."
   ]
  },
  {
   "cell_type": "code",
   "execution_count": 12,
   "id": "5fb9903a",
   "metadata": {},
   "outputs": [
    {
     "data": {
      "text/plain": [
       "<AxesSubplot:>"
      ]
     },
     "execution_count": 12,
     "metadata": {},
     "output_type": "execute_result"
    },
    {
     "data": {
      "image/png": "[encoded data removed]",
      "text/plain": [
       "<Figure size 432x288 with 1 Axes>"
      ]
     },
     "metadata": {
      "needs_background": "light"
     },
     "output_type": "display_data"
    }
   ],
   "source": [
    "df['Taxpayer City'].value_counts()[:20].plot(kind = 'bar')"
   ]
  },
  {
   "cell_type": "markdown",
   "id": "b11ce98a",
   "metadata": {},
   "source": [
    "### [Q7 4 points] Is there a Taxpayer Name associated with more than 1 Taxpayer Numbers?\n",
    "\n",
    "If so, print out such Taxpayer Name(s)."
   ]
  },
  {
   "cell_type": "code",
   "execution_count": 20,
   "id": "1bac1666",
   "metadata": {},
   "outputs": [
    {
     "data": {
      "text/html": [
       "<div>\n",
       "<style scoped>\n",
       "    .dataframe tbody tr th:only-of-type {\n",
       "        vertical-align: middle;\n",
       "    }\n",
       "\n",
       "    .dataframe tbody tr th {\n",
       "        vertical-align: top;\n",
       "    }\n",
       "\n",
       "    .dataframe thead th {\n",
       "        text-align: right;\n",
       "    }\n",
       "</style>\n",
       "<table border=\"1\" class=\"dataframe\">\n",
       "  <thead>\n",
       "    <tr style=\"text-align: right;\">\n",
       "      <th></th>\n",
       "      <th>Taxpayer Name</th>\n",
       "      <th>Taxpayer Number</th>\n",
       "    </tr>\n",
       "  </thead>\n",
       "  <tbody>\n",
       "    <tr>\n",
       "      <th>798</th>\n",
       "      <td>JOSE T GARCIA</td>\n",
       "      <td>32044562612</td>\n",
       "    </tr>\n",
       "    <tr>\n",
       "      <th>22505</th>\n",
       "      <td>JOSE T GARCIA</td>\n",
       "      <td>32007933057</td>\n",
       "    </tr>\n",
       "  </tbody>\n",
       "</table>\n",
       "</div>"
      ],
      "text/plain": [
       "       Taxpayer Name  Taxpayer Number\n",
       "798    JOSE T GARCIA      32044562612\n",
       "22505  JOSE T GARCIA      32007933057"
      ]
     },
     "execution_count": 20,
     "metadata": {},
     "output_type": "execute_result"
    }
   ],
   "source": [
    "tax_pn = df[['Taxpayer Name','Taxpayer Number']].groupby('Taxpayer Name')['Taxpayer Number'].nunique()\n",
    "\n",
    "tax_pn = tax_pn[tax_pn>1].index\n",
    "\n",
    "df[df['Taxpayer Name'].isin(tax_pn) == True][['Taxpayer Name','Taxpayer Number']].drop_duplicates()"
   ]
  },
  {
   "cell_type": "markdown",
   "id": "cef44e34",
   "metadata": {},
   "source": [
    "### [Q8 4 points] Plot the top 10 Taxpayer Names by the total amount of \"Total Receipts\".\n",
    "\n",
    "* For each Taxpayer Name, add up all of their Total Receipts (call this the sumTotal for this Taxpayer Name).\n",
    "* Plot the top 10 Names with the highest sumTotal, with x-axis being the Taxpayer Name and y-axis being their sumTotals."
   ]
  },
  {
   "cell_type": "code",
   "execution_count": 25,
   "id": "50484fa5",
   "metadata": {
    "scrolled": false
   },
   "outputs": [
    {
     "data": {
      "text/plain": [
       "Text(0, 0.5, 'sumTotals')"
      ]
     },
     "execution_count": 25,
     "metadata": {},
     "output_type": "execute_result"
    },
    {
     "data": {
      "image/png": "[encoded data removed]",
      "text/plain": [
       "<Figure size 432x288 with 1 Axes>"
      ]
     },
     "metadata": {
      "needs_background": "light"
     },
     "output_type": "display_data"
    }
   ],
   "source": [
    "df.groupby('Taxpayer Name')['Total Receipts'].sum().sort_values(ascending = False)[:10].plot(kind = 'bar')\n",
    "xlabel('Taxpayer Name')\n",
    "ylabel('sumTotals')"
   ]
  },
  {
   "cell_type": "markdown",
   "id": "3f796a44",
   "metadata": {},
   "source": [
    "### [Q9 4 points] In how many rows is the Total Receipts NOT equal to the sum of Liquor, Wine, Beer, and Cover Charge Receipts?"
   ]
  },
  {
   "cell_type": "code",
   "execution_count": 27,
   "id": "8807ccf7",
   "metadata": {},
   "outputs": [
    {
     "data": {
      "text/plain": [
       "147"
      ]
     },
     "execution_count": 27,
     "metadata": {},
     "output_type": "execute_result"
    }
   ],
   "source": [
    "(df['Total Receipts'] != df['Liquor Receipts']+df['Wine Receipts']+df['Beer Receipts']+\\\n",
    " df['Cover Charge Receipts']).sum()"
   ]
  },
  {
   "cell_type": "markdown",
   "id": "d3951bac",
   "metadata": {},
   "source": [
    "### [Q10 4 points] Special Permit Numbers\n",
    "\n",
    "* For each TABC Permit Number, consider its first two characters.\n",
    "    * For example, for Permit Number=\"MB817033\", this is \"MB\".\n",
    "    * For Permit Number=\"N 837378\", it is \"N \" (with the space).\n",
    "* Figure out the number of unique permit numbers for each such 2-letter code."
   ]
  },
  {
   "cell_type": "code",
   "execution_count": 32,
   "id": "ddb4898c",
   "metadata": {},
   "outputs": [
    {
     "data": {
      "text/plain": [
       "Special Permit Number\n",
       "MB    9653\n",
       "RM    2358\n",
       "N      592\n",
       "NE     272\n",
       "D      136\n",
       "TB      45\n",
       "NB      33\n",
       "SL       4\n",
       "FB       1\n",
       "TN       1\n",
       "Name: TABC Permit Number, dtype: int64"
      ]
     },
     "execution_count": 32,
     "metadata": {},
     "output_type": "execute_result"
    }
   ],
   "source": [
    "df['Special Permit Number'] = df['TABC Permit Number'].map(lambda x: x[:2])\n",
    "df.groupby('Special Permit Number')['TABC Permit Number'].nunique().sort_values(ascending = False)"
   ]
  },
  {
   "cell_type": "markdown",
   "id": "4fea694d",
   "metadata": {},
   "source": [
    "### [Q11 4 points] Top endings of Taxpayer Name\n",
    "\n",
    "For each Taxpayer Name, find the last word; call it the \"ending\".\n",
    "\n",
    "    * A word is anything without spaces, tabs, or other space-like characters.\n",
    "    \n",
    "Now, print the top 10 endings that show up most frequently (i.e., count the number of rows where the Taxpayer Name has this ending)."
   ]
  },
  {
   "cell_type": "code",
   "execution_count": 39,
   "id": "00844c26",
   "metadata": {},
   "outputs": [
    {
     "data": {
      "text/plain": [
       "Ending\n",
       "INC             35767\n",
       "LLC             35255\n",
       "L.L.C            3557\n",
       "COMPANY          2637\n",
       "LTD              2151\n",
       "CORPORATION      1910\n",
       "L.P              1680\n",
       "CLUB             1653\n",
       "LP               1304\n",
       "INCORPORATED     1215\n",
       "Name: Taxpayer Name, dtype: int64"
      ]
     },
     "execution_count": 39,
     "metadata": {},
     "output_type": "execute_result"
    }
   ],
   "source": [
    "df['Ending'] = df['Taxpayer Name'].map(lambda x: x.rstrip('.').split()[len(x.split())-1])\n",
    "df.groupby('Ending')['Taxpayer Name'].count().sort_values(ascending = False)[:10]"
   ]
  },
  {
   "cell_type": "markdown",
   "id": "de47b0c7",
   "metadata": {},
   "source": [
    "### [Q12 6 points] Plot of mean \"Total Receipts\" by month\n",
    "\n",
    "Show a plot where the x-axis is the month based on the \"Responsibility Begin Date\", and the y-axis is the average of the \"Total Receipts\" column over that month.\n",
    "\n",
    "* The x-axis varies over all months starting from before 1994 until after 2021."
   ]
  },
  {
   "cell_type": "code",
   "execution_count": 43,
   "id": "306e277e",
   "metadata": {},
   "outputs": [
    {
     "data": {
      "text/plain": [
       "<AxesSubplot:xlabel='Responsibility Begin Date'>"
      ]
     },
     "execution_count": 43,
     "metadata": {},
     "output_type": "execute_result"
    },
    {
     "data": {
      "image/png": "[encoded data removed]",
      "text/plain": [
       "<Figure size 432x288 with 1 Axes>"
      ]
     },
     "metadata": {
      "needs_background": "light"
     },
     "output_type": "display_data"
    }
   ],
   "source": [
    "from datetime import datetime\n",
    "df_dt = df.copy()\n",
    "df_dt['Responsibility Begin Date'] = pd.to_datetime(df_dt['Responsibility Begin Date'])\n",
    "df_dt.set_index('Responsibility Begin Date', inplace=True)\n",
    "\n",
    "df_dt.loc['1994-01-01':'2021-12-31']['Total Receipts'].resample('M', kind='period').mean().plot()\n"
   ]
  },
  {
   "cell_type": "markdown",
   "id": "b3d2d8c2",
   "metadata": {},
   "source": [
    "### [Q13 6 points] Cities preferring one type of booze\n",
    "\n",
    "For each Location City, do the following:\n",
    "* Calculate the totals for Liquor, Wine, and Beer Receipts from that City.\n",
    "* From these totals, figure out the highest and second-highest totals\n",
    "    * For example, if a city has totals of 100K for Liquor, 200K for Wine, and 10K for Beer, then the highest total is 200K and the second-highest is 100K.\n",
    "* Print out the cities where the highest total is greater than 50,000 AND the ratio of highest to second-highest is greater than 10.\n",
    "\n",
    "These are the cities that specifically prefer one kind of booze."
   ]
  },
  {
   "cell_type": "code",
   "execution_count": 71,
   "id": "a79bdfa3",
   "metadata": {},
   "outputs": [
    {
     "ename": "SyntaxError",
     "evalue": "invalid syntax (313853711.py, line 8)",
     "output_type": "error",
     "traceback": [
      "\u001b[0;36m  Input \u001b[0;32mIn [71]\u001b[0;36m\u001b[0m\n\u001b[0;31m    return x['Liquor Receipts'] = 0\u001b[0m\n\u001b[0m                                ^\u001b[0m\n\u001b[0;31mSyntaxError\u001b[0m\u001b[0;31m:\u001b[0m invalid syntax\n"
     ]
    }
   ],
   "source": [
    "x = df.groupby('Location City')[['Liquor Receipts','Wine Receipts','Beer Receipts']].sum()#.max()\n",
    "\n",
    "first = x.T.max()\n",
    "\n",
    "x['max'] = first\n",
    "def rmax(x):\n",
    "    if x['Liquor Receipts'] == x['max']:\n",
    "        return x['Liquor Receipts']  0\n",
    "    else if x['Wine Receipts'] == x['max']:\n",
    "        return x['Wine Receipts'] = 0\n",
    "    else:\n",
    "        return x['Beer Receipts'] = 0\n",
    "        \n",
    "x.apply(rmax,axis = 1)\n",
    "\n",
    "# find out second highest  "
   ]
  },
  {
   "cell_type": "markdown",
   "id": "ec3f2368",
   "metadata": {},
   "source": [
    "### [Q14 6 points] What fraction of Location Zips are associated with 2 or more different Location Counties?\n",
    "\n",
    "Look at every unique Location Zip. Figure out if it shows up with 2 or more unique Location Counties. Print out the fraction of Location Zips that are split across Counties."
   ]
  },
  {
   "cell_type": "code",
   "execution_count": 76,
   "id": "04d6084f",
   "metadata": {},
   "outputs": [
    {
     "data": {
      "text/plain": [
       "0.05520361990950226"
      ]
     },
     "execution_count": 76,
     "metadata": {},
     "output_type": "execute_result"
    }
   ],
   "source": [
    "(df.groupby('Location Zip')['Location County'].nunique()>1).sum()/len(df['Location Zip'].drop_duplicates())"
   ]
  },
  {
   "cell_type": "markdown",
   "id": "5c135bdb",
   "metadata": {},
   "source": [
    "### [Q15 6 points] Boozed-up locations\n",
    "\n",
    "Some Location Names contain the substring \" STE \" (with spaces). The STE refers to a \"suite\" in that building.\n",
    "\n",
    "* Find all rows where the Location Name contains \" STE \"\n",
    "    * e.g., Location Name = \"5945 BELLAIRE BLVD STE B\"\n",
    "* Consider only the part of the Location Name that comes before the STE. Call this the LocationBase.\n",
    "    * e.g., Location Base = \"5945 BELLAIRE BLVD\"\n",
    "* For every unique (LocationBase, Location City) pair, count how many distinct Location Names are associated with that pair.\n",
    "    * e.g., Suppose that for LocationBase=\"5945 BELLAIRE BLVD\" in LocationCity=\"HOUSTON\", there are two associated Location Names (say, \"Honduras Maya\" and \"Pervian Inca\"). Then, we say (\"5495 BELLAIRE BLVD\", \"HOUSTON\") has a count of 2.\n",
    "* Print out all (LocationBase, Location City) pairs with a count greater than 10."
   ]
  },
  {
   "cell_type": "code",
   "execution_count": 88,
   "id": "3fcd555f",
   "metadata": {},
   "outputs": [
    {
     "data": {
      "text/plain": [
       "LocationBase        Location City\n",
       "2625 OLD DENTON RD  CARROLLTON       12\n",
       "3011 GULDEN LN      DALLAS           13\n",
       "Name: Location Name, dtype: int64"
      ]
     },
     "execution_count": 88,
     "metadata": {},
     "output_type": "execute_result"
    }
   ],
   "source": [
    "df_new = df[df['Location Address'].str.contains(pat = \" STE \")].copy()\n",
    "\n",
    "def lb(x):\n",
    "    y = x.split()\n",
    "    return ' '.join(y[0:y.index('STE')])\n",
    "\n",
    "df_new['LocationBase'] = df_new['Location Address'].map(lb)\n",
    "\n",
    "s = df_new.groupby(['LocationBase','Location City'])['Location Name'].nunique()\n",
    "\n",
    "s[s>10]"
   ]
  },
  {
   "cell_type": "markdown",
   "id": "7528adec",
   "metadata": {},
   "source": [
    "### [Q16 6 points] Top city for multi-city chains\n",
    "\n",
    "Call a LOCATION NAME a multi-city chain if it is associated with 5 or more different Taxpayer Cities.\n",
    "For each such multi-city chain, figure out which city has the highest sum of Total Receipts for that chain.\n",
    "For example:\n",
    "* Suppose LOCATION NAME=\"Honduras Maya\" shows up in only 1 city (HOUSTON). Then, it isn't a multi-city chain.\n",
    "* Suppose LOCATION NAME=\"WINGSTOP\" shows up in 5 or more cities. Then figure out the sum of all Total Receipts (\"sumTotal\") paid by WINGSTOP for each of these cities, and report the city with the highest sumTotal.\n",
    "    * For instance, if WINGSTOP paid 200K in HOUSTON, 100K in Austin, and 50K in DALLAS, then you will report HOUSTON for WINGSTOP.\n",
    "    * Report the top city for each such multi-city chain.\n",
    "\n",
    "\n",
    "*Note*: This is only an example. HOUSTON may not be the top city for Wingstop."
   ]
  },
  {
   "cell_type": "code",
   "execution_count": 97,
   "id": "02bd502e",
   "metadata": {},
   "outputs": [
    {
     "data": {
      "text/plain": [
       "Location Name\n",
       "54TH STREET RESTAURANT & DRAFTHOUSE     SAN MARCOS\n",
       "ABUELO'S BEVERAGE CORPORATION              ABILENE\n",
       "ANOTHER BROKEN EGG CAFE                 SHENANDOAH\n",
       "APPLEBEE'S NEIGHBORHOOD GRILL & BAR    WEATHERFORD\n",
       "ASPEN CREEK                                 IRVING\n",
       "                                          ...     \n",
       "VILLA GRANDE MEXICAN RESTAURANT             HASLET\n",
       "WILLIE'S GRILL & ICEHOUSE              SAN ANTONIO\n",
       "WING DADDY'S SAUCE HOUSE               SAN ANTONIO\n",
       "WINGSTOP                                   GARLAND\n",
       "ZOE'S KITCHEN                                PLANO\n",
       "Length: 85, dtype: object"
      ]
     },
     "execution_count": 97,
     "metadata": {},
     "output_type": "execute_result"
    }
   ],
   "source": [
    "ln = df.groupby('Location Name')['Location City'].nunique()\n",
    "ln = ln[ln >= 5].index\n",
    "df[df['Location Name'].isin(ln)].groupby(['Location Name','Location City'])['Total Receipts'].sum()\\\n",
    ".unstack('Location City').fillna(0).T.idxmax()"
   ]
  },
  {
   "cell_type": "markdown",
   "id": "b731c363",
   "metadata": {},
   "source": [
    "### [Q17 6 points] Pattern of places being within city limits\n",
    "\n",
    "* For each Location City, figure out the number of rows associated with that City (\"numRows\"), and the fraction of these rows where the 'Inside/Outside City Limits' columns equals 'Y' (\"fracY\").\n",
    "* Split the Location Cities into 5 bins based on their \"numRows\". Each bin should have roughly the same number of Location Cities in it.\n",
    "* For each bin, print out the average \"fracY\" for all Location Cities in that bin."
   ]
  },
  {
   "cell_type": "code",
   "execution_count": 122,
   "id": "60cfe97f",
   "metadata": {},
   "outputs": [
    {
     "data": {
      "text/plain": [
       "nRbins\n",
       "(0.999, 4.0]        0.595078\n",
       "(4.0, 9.0]          0.688232\n",
       "(9.0, 23.0]         0.710370\n",
       "(23.0, 105.6]       0.797750\n",
       "(105.6, 12206.0]    0.887873\n",
       "Name: fracY, dtype: float64"
      ]
     },
     "execution_count": 122,
     "metadata": {},
     "output_type": "execute_result"
    }
   ],
   "source": [
    "limit_y = df[df['Inside/Outside City Limits'] == 'Y'].groupby('Location City')['Location City'].count()\n",
    "numRows = df['Location City'].value_counts()\n",
    "numRows\n",
    "df_city = pd.DataFrame(numRows, columns = ['numRows','fracY'])\n",
    "df_city['numRows'] = numRows\n",
    "df_city['fracY'] = fracY\n",
    "df_city['nRbins'] = pd.qcut(df_city['numRows'], 5)\n",
    "df_city.groupby('nRbins')['fracY'].mean()"
   ]
  },
  {
   "cell_type": "markdown",
   "id": "72f1ac47",
   "metadata": {},
   "source": [
    "### [Q18 6 points] Variety places\n",
    "\n",
    "* For each row, figure out which one of Liquor/Wine/Booze Receipts \"dominates\" (i.e., its value is  greater than the other 2 receipts)\n",
    "    * For example, if Liquor=100, Wine=50, Beer=0, then Liquor dominates\n",
    "    * If Liquor=Beer=100 and Wine=10, then no one dominates\n",
    "    * If Liquor=Wine=Beer=0, then no one dominates.\n",
    "* Note that each Taxpayer Name can show up multiple times (i.e., multiple rows), each time with a different type of booze dominating the others.\n",
    "* Figure out the Taxpayer Names for which there are at least 2 rows in which Liquor dominates, at least 2 rows in which Wine dominates, and at least 2 rows in which Beer dominates\n",
    "* Report the fraction of unique Taxpayer Names for which this happens."
   ]
  },
  {
   "cell_type": "code",
   "execution_count": 160,
   "id": "6229ddc2",
   "metadata": {},
   "outputs": [
    {
     "data": {
      "text/plain": [
       "0.006206435596295235"
      ]
     },
     "execution_count": 160,
     "metadata": {},
     "output_type": "execute_result"
    }
   ],
   "source": [
    "which_max = df[['Liquor Receipts','Wine Receipts','Beer Receipts']].T.idxmax()\n",
    "maxi = df[['Liquor Receipts','Wine Receipts','Beer Receipts']].T.max()\n",
    "df_18 = df.copy()\n",
    "df_18['which_max'] = which_max\n",
    "df_18['max'] = maxi\n",
    "\n",
    "def clean(x):\n",
    "    if x['max'] == 0:\n",
    "        return 0\n",
    "    elif x['Liquor Receipts'] == x['Wine Receipts'] == x['max']\\\n",
    "    or x['Beer Receipts'] == x['Wine Receipts'] == x['max']\\\n",
    "    or x['Beer Receipts'] == x['Liquor Receipts'] == x['max']:\n",
    "        return 0\n",
    "    else:\n",
    "        return x['which_max']\n",
    "\n",
    "df_18['which_max_clean'] = df_18.apply(clean, axis = 1)\n",
    "df_trans = df_18[['Taxpayer Name','Liquor Receipts','Wine Receipts','Beer Receipts','which_max','max','which_max_clean']]\\\n",
    ".groupby(['Taxpayer Name','which_max_clean'])['Taxpayer Name'].count().unstack('which_max_clean').drop(columns = 0)\\\n",
    ".fillna(0)\n",
    "\n",
    "def check_tn(x):\n",
    "    if x['Liquor Receipts']>=2 and x['Wine Receipts']>=2 and x['Beer Receipts']>=2:\n",
    "        return 1\n",
    "    else:\n",
    "        return 0\n",
    "    \n",
    "\n",
    "df_trans['check'] = df_trans.apply(check_tn,axis = 1)\n",
    "len(df_trans[df_trans['check'] == 1].index)/len(df['Taxpayer Name'].drop_duplicates())\n",
    "  "
   ]
  },
  {
   "cell_type": "markdown",
   "id": "c647205e",
   "metadata": {},
   "source": [
    "---\n",
    "\n",
    "### [Q19 8 points] Predictions for Cervical Cancer\n",
    "\n",
    "Load in **cervical.csv**. Each row lists the details of one patient. \n",
    "\n",
    "* A patient is in the positive class (\"has cancer\") if any of the following four columns is greater than 0: Hinselmann/Schiller/Citology/Biopsy.\n",
    "\n",
    "Set up the following classification problem:\n",
    "* We want to predict if a patient is in the positive class using all features *except* the four columns named above.\n",
    "* Split the data into 75% training and 25% testing set.\n",
    "* Print out the test accuracy of the baseline classifier.\n",
    "* Print out the test accuracy of a Gradient Boosting Regression classifier with 100 trees, each of depth 1."
   ]
  },
  {
   "cell_type": "code",
   "execution_count": 167,
   "id": "feda69dc",
   "metadata": {},
   "outputs": [
    {
     "data": {
      "text/plain": [
       "Age                                   18.0\n",
       "Number of sexual partners              4.0\n",
       "First sexual intercourse              15.0\n",
       "Num of pregnancies                     1.0\n",
       "Smokes                                 0.0\n",
       "Smokes (years)                         0.0\n",
       "Smokes (packs/year)                    0.0\n",
       "Hormonal Contraceptives                0.0\n",
       "Hormonal Contraceptives (years)        0.0\n",
       "IUD                                    0.0\n",
       "IUD (years)                            0.0\n",
       "STDs                                   0.0\n",
       "STDs (number)                          0.0\n",
       "STDs:condylomatosis                    0.0\n",
       "STDs:cervical condylomatosis           0.0\n",
       "STDs:vaginal condylomatosis            0.0\n",
       "STDs:vulvo-perineal condylomatosis     0.0\n",
       "STDs:syphilis                          0.0\n",
       "STDs:pelvic inflammatory disease       0.0\n",
       "STDs:genital herpes                    0.0\n",
       "STDs:molluscum contagiosum             0.0\n",
       "STDs:AIDS                              0.0\n",
       "STDs:HIV                               0.0\n",
       "STDs:Hepatitis B                       0.0\n",
       "STDs:HPV                               0.0\n",
       "STDs: Number of diagnosis              0.0\n",
       "Dx:Cancer                              0.0\n",
       "Dx:CIN                                 0.0\n",
       "Dx:HPV                                 0.0\n",
       "Dx                                     0.0\n",
       "Hinselmann                             0.0\n",
       "Schiller                               0.0\n",
       "Citology                               0.0\n",
       "Biopsy                                 0.0\n",
       "target                                 0.0\n",
       "Name: 0, dtype: float64"
      ]
     },
     "execution_count": 167,
     "metadata": {},
     "output_type": "execute_result"
    }
   ],
   "source": [
    "df_c = pd.read_csv('cervical.csv')\n",
    "\n",
    "def target(x):\n",
    "    if x['Hinselmann'] > 0 or x['Schiller'] > 0 or x['Citology'] > 0 or x['Biopsy'] > 0:\n",
    "        return 1\n",
    "    else:\n",
    "        return 0\n",
    "\n",
    "df_c['target'] = df_c.apply(target, axis = 1)\n",
    "df_c.iloc[0]"
   ]
  },
  {
   "cell_type": "code",
   "execution_count": 177,
   "id": "7b9cf1aa",
   "metadata": {},
   "outputs": [
    {
     "data": {
      "text/plain": [
       "0.6666666666666666"
      ]
     },
     "execution_count": 177,
     "metadata": {},
     "output_type": "execute_result"
    }
   ],
   "source": [
    "df_c['target'].value_counts().max()/df_c['target'].value_counts().sum()\n",
    "# Baseline accuracy"
   ]
  },
  {
   "cell_type": "code",
   "execution_count": 178,
   "id": "14d91aaf",
   "metadata": {},
   "outputs": [
    {
     "data": {
      "text/plain": [
       "'target ~ Q(\"Age\") + Q(\"Number of sexual partners\") + Q(\"First sexual intercourse\") + Q(\"Num of pregnancies\") + Q(\"Smokes\") + Q(\"Smokes (years)\") + Q(\"Smokes (packs/year)\") + Q(\"Hormonal Contraceptives\") + Q(\"Hormonal Contraceptives (years)\") + Q(\"IUD\") + Q(\"IUD (years)\") + Q(\"STDs\") + Q(\"STDs (number)\") + Q(\"STDs:condylomatosis\") + Q(\"STDs:cervical condylomatosis\") + Q(\"STDs:vaginal condylomatosis\") + Q(\"STDs:vulvo-perineal condylomatosis\") + Q(\"STDs:syphilis\") + Q(\"STDs:pelvic inflammatory disease\") + Q(\"STDs:genital herpes\") + Q(\"STDs:molluscum contagiosum\") + Q(\"STDs:AIDS\") + Q(\"STDs:HIV\") + Q(\"STDs:Hepatitis B\") + Q(\"STDs:HPV\") + Q(\"STDs: Number of diagnosis\") + Q(\"Dx:Cancer\") + Q(\"Dx:CIN\") + Q(\"Dx:HPV\") + Q(\"Dx\")'"
      ]
     },
     "execution_count": 178,
     "metadata": {},
     "output_type": "execute_result"
    }
   ],
   "source": [
    "x = df_c.columns.values[:-4]\n",
    "\n",
    "formula = 'target ~ ' + ' + '.join(['Q(\"'+x+'\")' \\\n",
    "                                    for x in df_c.columns.values[:-5]])\n",
    "formula"
   ]
  },
  {
   "cell_type": "code",
   "execution_count": 184,
   "id": "7336b813",
   "metadata": {},
   "outputs": [
    {
     "name": "stdout",
     "output_type": "stream",
     "text": [
      "Training accuracy:0.7251184834123223\n",
      "Test accuracy:0.7605633802816901\n"
     ]
    }
   ],
   "source": [
    "from sklearn import tree\n",
    "from sklearn.ensemble import GradientBoostingClassifier\n",
    "from patsy import dmatrices\n",
    "from sklearn.model_selection import train_test_split\n",
    "from sklearn import metrics\n",
    "Y, X = dmatrices(formula, df_c, return_type='dataframe')\n",
    "\n",
    "y = Y['target'].values\n",
    "\n",
    "\n",
    "X_train, X_test, y_train, y_test = train_test_split(X, y,\n",
    "                                                    test_size=0.25,\n",
    "                                                    random_state=1)\n",
    "\n",
    "model= GradientBoostingClassifier(n_estimators=100,\n",
    "                               max_depth=1,\n",
    "                               random_state=1)\n",
    "model.fit(X_train,y_train)\n",
    "\n",
    "accuracy_train = metrics.accuracy_score(y_train, model.predict(X_train))\n",
    "\n",
    "accuracy_test = metrics.accuracy_score(y_test, model.predict(X_test))\n",
    "\n",
    "print('Training accuracy:'+str(accuracy_train))\n",
    "print('Test accuracy:'+str(accuracy_test))"
   ]
  }
 ],
 "metadata": {
  "kernelspec": {
   "display_name": "Python 3 (ipykernel)",
   "language": "python",
   "name": "python3"
  },
  "language_info": {
   "codemirror_mode": {
    "name": "ipython",
    "version": 3
   },
   "file_extension": ".py",
   "mimetype": "text/x-python",
   "name": "python",
   "nbconvert_exporter": "python",
   "pygments_lexer": "ipython3",
   "version": "3.9.12"
  }
 },
 "nbformat": 4,
 "nbformat_minor": 5
}

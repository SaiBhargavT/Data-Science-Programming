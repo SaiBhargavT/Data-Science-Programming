{
 "cells": [
  {
   "cell_type": "code",
   "execution_count": 24,
   "id": "29a27d51",
   "metadata": {},
   "outputs": [],
   "source": [
    "def moving_window(tweet):\n",
    "    x = tweet.split(' ')\n",
    "    y=[]\n",
    "    for i in range(len(x)-2):\n",
    "        y.append(' '.join(x[i:i+3]))\n",
    "        \n",
    "    dict={}\n",
    "    for i in range(len(y)):\n",
    "        dict[y[i]] = 1\n",
    "    \n",
    "    return dict"
   ]
  },
  {
   "cell_type": "code",
   "execution_count": 25,
   "id": "0b06cdf2",
   "metadata": {},
   "outputs": [],
   "source": [
    "def cosine(dict1,dict2):\n",
    "    import math\n",
    "    match = 0\n",
    "    for i in dict1.keys():\n",
    "        for j in dict2.keys():\n",
    "            if j == i:\n",
    "                match = match+1\n",
    "    \n",
    "    cosine = match/math.sqrt(sum(dict1.values())*sum(dict2.values()))\n",
    "    return cosine"
   ]
  },
  {
   "cell_type": "code",
   "execution_count": 28,
   "id": "6e751d32",
   "metadata": {
    "scrolled": true
   },
   "outputs": [
    {
     "name": "stdout",
     "output_type": "stream",
     "text": [
      "RT @BuyBookstore: SPECIAL SECRET HEARTS: A Child's Introduction to Dementia and Pink Curls - A Santa ... - http://t.co/UWCdc8FA9a http://t.",
      " is a near duplicate to SPECIAL SECRET HEARTS: A Child's Introduction to Dementia and Pink Curls - A Santa ... - http://t.co/UWCdc8FA9a http://t.co/meexKLGTKl\n",
      "\"RT @DrewFtDevonne_: Rt si te gusta Santa Claus Is Coming To Town #MTVHottest Justin Bieber\" is a near duplicate to \"Santa Claus Is Coming To Town #MTVHottest Justin Bieber\"\n",
      "\"Rt si te gusta Santa Claus Is Coming To Town #MTVHottest Justin Bieber\" is a near duplicate to \"Santa Claus Is Coming To Town #MTVHottest Justin Bieber\"\n",
      "\"Rt si te gusta Santa Claus Is Coming To Town #MTVHottest Justin Bieber\" is a near duplicate to \"RT @DrewFtDevonne_: Rt si te gusta Santa Claus Is Coming To Town #MTVHottest Justin Bieber\"\n"
     ]
    }
   ],
   "source": [
    "#converting each tweet as an element of list for easy access and also removing \\n at the end of the strings \n",
    "fp = open('Data/Santa.txt')\n",
    "twlist = fp.readlines()\n",
    "\n",
    "for idx,item in enumerate(twlist):\n",
    "    item = item.rstrip('\\n')\n",
    "    twlist[idx]=item\n",
    "\n",
    "for i in range(1,len(twlist)):\n",
    "    for j in range (i):\n",
    "        if cosine(moving_window(twlist[i]),moving_window(twlist[j])) > 0.5:\n",
    "            print(twlist[i]+' is a near duplicate to '+twlist[j])       "
   ]
  },
  {
   "cell_type": "code",
   "execution_count": null,
   "id": "23557e85",
   "metadata": {},
   "outputs": [],
   "source": []
  }
 ],
 "metadata": {
  "kernelspec": {
   "display_name": "Python 3 (ipykernel)",
   "language": "python",
   "name": "python3"
  },
  "language_info": {
   "codemirror_mode": {
    "name": "ipython",
    "version": 3
   },
   "file_extension": ".py",
   "mimetype": "text/x-python",
   "name": "python",
   "nbconvert_exporter": "python",
   "pygments_lexer": "ipython3",
   "version": "3.9.12"
  }
 },
 "nbformat": 4,
 "nbformat_minor": 5
}
